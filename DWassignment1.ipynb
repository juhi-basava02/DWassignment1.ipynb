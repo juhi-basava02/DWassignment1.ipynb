{
 "cells": [
  {
   "cell_type": "code",
   "execution_count": 3,
   "metadata": {},
   "outputs": [
    {
     "name": "stdout",
     "output_type": "stream",
     "text": [
      "[0. 0. 0. 0. 1. 0. 0. 0. 0. 0.]\n"
     ]
    }
   ],
   "source": [
    "# 1. Create a null vector of size 10 but the fifth value which is 1.\n",
    "import numpy as np\n",
    "\n",
    "null_vector = np.zeros(10)\n",
    "null_vector[4] = 1\n",
    "\n",
    "print(null_vector)"
   ]
  },
  {
   "cell_type": "code",
   "execution_count": 2,
   "metadata": {},
   "outputs": [
    {
     "name": "stdout",
     "output_type": "stream",
     "text": [
      "Original vector:\n",
      "[10 11 12 13 14 15 16 17 18 19 20 21 22 23 24 25 26 27 28 29 30 31 32 33\n",
      " 34 35 36 37 38 39 40 41 42 43 44 45 46 47 48 49]\n"
     ]
    }
   ],
   "source": [
    "# Create a vector with values ranging from 10 to 49.\n",
    "import numpy as np\n",
    "a = np.arange(10,50)\n",
    "print(\"Original vector:\")\n",
    "print(a)"
   ]
  },
  {
   "cell_type": "code",
   "execution_count": 5,
   "metadata": {},
   "outputs": [
    {
     "name": "stdout",
     "output_type": "stream",
     "text": [
      "[[0 1 2]\n",
      " [3 4 5]\n",
      " [6 7 8]]\n"
     ]
    }
   ],
   "source": [
    "# 3. Create a 3x3 matrix with values ranging from 0 to 8\n",
    "import numpy as np\n",
    "x =  np.arange(0, 9).reshape(3,3)\n",
    "print(x)"
   ]
  },
  {
   "cell_type": "code",
   "execution_count": 6,
   "metadata": {},
   "outputs": [
    {
     "name": "stdout",
     "output_type": "stream",
     "text": [
      "[0, 1, 4]\n"
     ]
    }
   ],
   "source": [
    "# 4. Find indices of non-zero elements from [1,2,0,0,4,0]\n",
    "import numpy as np\n",
    "li = [1,2,0,0,4,0]\n",
    "arr = np.array(li)\n",
    "li_new = list(np.nonzero(arr)[0]) \n",
    "print(li_new)"
   ]
  },
  {
   "cell_type": "code",
   "execution_count": 7,
   "metadata": {},
   "outputs": [
    {
     "name": "stdout",
     "output_type": "stream",
     "text": [
      "Original Array:\n",
      "[[0.94829542 0.95541625 0.50222294 0.44506269 0.71370977 0.59038546\n",
      "  0.16925795 0.34347465 0.09898757 0.27861825]\n",
      " [0.54301783 0.67395524 0.87286699 0.34578749 0.53175202 0.61063401\n",
      "  0.35535509 0.75652911 0.32002633 0.25268986]\n",
      " [0.22296073 0.04224443 0.83759806 0.10816555 0.39280693 0.3410265\n",
      "  0.63723996 0.46469956 0.68015012 0.04366761]\n",
      " [0.97899812 0.00603975 0.43020609 0.6763646  0.15866486 0.49653793\n",
      "  0.70187509 0.55480405 0.31618366 0.93543021]\n",
      " [0.52835194 0.3428685  0.72772183 0.0704054  0.71447115 0.23008959\n",
      "  0.49853453 0.27595042 0.66975986 0.54581967]\n",
      " [0.51688903 0.44575938 0.40232895 0.51322715 0.16345721 0.88113954\n",
      "  0.40833218 0.51792328 0.16076955 0.67224459]\n",
      " [0.58507526 0.66819034 0.21866271 0.56961859 0.45919759 0.48789564\n",
      "  0.04418792 0.37492018 0.30929105 0.70629741]\n",
      " [0.29985853 0.19529287 0.86176642 0.65891145 0.47178847 0.50967124\n",
      "  0.16376739 0.13642925 0.34780746 0.92297934]\n",
      " [0.87811821 0.06302538 0.36487471 0.92528668 0.44710148 0.49803686\n",
      "  0.16594987 0.38730544 0.61157755 0.98656091]\n",
      " [0.80702395 0.05339824 0.43667272 0.74451268 0.91009306 0.1638527\n",
      "  0.43068238 0.63691385 0.22680868 0.8901698 ]]\n",
      "Minimum and Maximum Values:\n",
      "0.0060397481653430285 0.9865609104705902\n"
     ]
    }
   ],
   "source": [
    "# 5. Create a 10x10 array with random values and find the minimum and maximum values.\n",
    "import numpy as np\n",
    "x = np.random.random((10,10))\n",
    "print(\"Original Array:\")\n",
    "print(x) \n",
    "xmin, xmax = x.min(), x.max()\n",
    "print(\"Minimum and Maximum Values:\")\n",
    "print(xmin, xmax)"
   ]
  },
  {
   "cell_type": "code",
   "execution_count": 8,
   "metadata": {},
   "outputs": [
    {
     "name": "stdout",
     "output_type": "stream",
     "text": [
      "Original array:\n"
     ]
    },
    {
     "data": {
      "text/plain": [
       "0.43538511219788173"
      ]
     },
     "execution_count": 8,
     "metadata": {},
     "output_type": "execute_result"
    }
   ],
   "source": [
    "# 6. Create a random vector of size 30 and find the mean value\n",
    "import numpy as np\n",
    "x = np.random.random(30)\n",
    "print(\"Original array:\")\n",
    "np.mean(x)"
   ]
  }
 ],
 "metadata": {
  "kernelspec": {
   "display_name": "Python 3",
   "language": "python",
   "name": "python3"
  },
  "language_info": {
   "codemirror_mode": {
    "name": "ipython",
    "version": 3
   },
   "file_extension": ".py",
   "mimetype": "text/x-python",
   "name": "python",
   "nbconvert_exporter": "python",
   "pygments_lexer": "ipython3",
   "version": "3.11.3"
  }
 },
 "nbformat": 4,
 "nbformat_minor": 2
}
